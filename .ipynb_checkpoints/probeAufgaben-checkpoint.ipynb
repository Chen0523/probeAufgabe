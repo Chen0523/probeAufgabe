{
 "cells": [
  {
   "cell_type": "markdown",
   "metadata": {
    "ExecuteTime": {
     "end_time": "2020-10-09T22:45:12.960482Z",
     "start_time": "2020-10-09T22:45:12.957513Z"
    }
   },
   "source": [
    "## Step I"
   ]
  },
  {
   "cell_type": "markdown",
   "metadata": {},
   "source": [
    "### Install /Import the library "
   ]
  },
  {
   "cell_type": "code",
   "execution_count": null,
   "metadata": {
    "ExecuteTime": {
     "end_time": "2020-10-09T22:42:58.594776Z",
     "start_time": "2020-10-09T22:42:56.424911Z"
    }
   },
   "outputs": [],
   "source": [
    "!pip install requests\n",
    "!pip install beautifulsoup4"
   ]
  },
  {
   "cell_type": "code",
   "execution_count": 6,
   "metadata": {
    "ExecuteTime": {
     "end_time": "2020-10-10T14:14:09.619574Z",
     "start_time": "2020-10-10T14:14:09.614580Z"
    }
   },
   "outputs": [],
   "source": [
    "import requests\n",
    "from urllib.parse import urlencode\n",
    "import pandas as pd\n",
    "import numpy as np\n",
    "from bs4 import BeautifulSoup\n",
    "import urllib.request\n",
    "import csv\n",
    "import re"
   ]
  },
  {
   "cell_type": "markdown",
   "metadata": {},
   "source": [
    "### Methods to get dynamic data"
   ]
  },
  {
   "cell_type": "code",
   "execution_count": 2,
   "metadata": {
    "ExecuteTime": {
     "end_time": "2020-10-10T14:13:01.988502Z",
     "start_time": "2020-10-10T14:13:01.971508Z"
    }
   },
   "outputs": [],
   "source": [
    "# method to get the data from dynamic ajax link and append the data to dataframe\n",
    "def requestURL(url):\n",
    "\n",
    "    headers = {\n",
    "        \"User-Agent\":\n",
    "        \"Mozilla/5.0 (Windows NT 10.0; WOW64) AppleWebKit/537.36 (KHTML, like Gecko) Chrome/68.0.3029.110 Safari/537.36 SE 2.X MetaSr 1.0\",\n",
    "        \"referer\": \"https://www.toutiao.com/search/\",\n",
    "        'x-requested-with': 'XMLHttpRequest'\n",
    "    }\n",
    "\n",
    "    return requests.get(url, headers=headers)\n",
    "\n",
    "\n",
    "def parse_ajax_web(offset, df):\n",
    "\n",
    "    ajax_url = \"https://bugcrowd.com/programs.json?sort[]=promoted-desc&offset[]={}\".format(\n",
    "        offset)\n",
    "    response = requestURL(ajax_url)\n",
    "\n",
    "    # put data from response into dataframe\n",
    "    json = response.json()\n",
    "    data = json.get('programs')\n",
    "\n",
    "    for item in data:\n",
    "        name = \"\"\n",
    "        url = \"\"\n",
    "\n",
    "        if item.get('name') is not None:\n",
    "            name = item.get(\"name\")\n",
    "\n",
    "        if item.get('program_url') is not None:\n",
    "            url = item.get('program_url')\n",
    "\n",
    "        df = df.append(pd.DataFrame({\n",
    "            'program_name': [name],\n",
    "            'program_url': [url]\n",
    "        }),\n",
    "                       sort=True)\n",
    "\n",
    "    df = df.reset_index(drop=True)\n",
    "\n",
    "    return df\n",
    "\n",
    "\n",
    "# main methode\n",
    "def main():\n",
    "    df = pd.DataFrame(columns=['program_name', 'program_url'])\n",
    "\n",
    "    # since the total number is 210, the mehtode will be able to catch all data in 9 loops\n",
    "    for offset in (range(0, 9)):\n",
    "        df = parse_ajax_web(offset * 25, df)\n",
    "\n",
    "\n",
    "#     save to csv\n",
    "    df = df.reset_index(drop=True)\n",
    "    df.to_csv(r\".\\result_I.csv\")\n",
    "\n",
    "    return df"
   ]
  },
  {
   "cell_type": "markdown",
   "metadata": {
    "ExecuteTime": {
     "end_time": "2020-10-09T22:42:31.152209Z",
     "start_time": "2020-10-09T22:42:31.148207Z"
    }
   },
   "source": [
    "### Excute and write into csv"
   ]
  },
  {
   "cell_type": "code",
   "execution_count": 3,
   "metadata": {
    "ExecuteTime": {
     "end_time": "2020-10-10T14:13:20.824967Z",
     "start_time": "2020-10-10T14:13:04.594428Z"
    },
    "scrolled": true
   },
   "outputs": [
    {
     "data": {
      "text/html": [
       "<div>\n",
       "<style scoped>\n",
       "    .dataframe tbody tr th:only-of-type {\n",
       "        vertical-align: middle;\n",
       "    }\n",
       "\n",
       "    .dataframe tbody tr th {\n",
       "        vertical-align: top;\n",
       "    }\n",
       "\n",
       "    .dataframe thead th {\n",
       "        text-align: right;\n",
       "    }\n",
       "</style>\n",
       "<table border=\"1\" class=\"dataframe\">\n",
       "  <thead>\n",
       "    <tr style=\"text-align: right;\">\n",
       "      <th></th>\n",
       "      <th>program_name</th>\n",
       "      <th>program_url</th>\n",
       "    </tr>\n",
       "  </thead>\n",
       "  <tbody>\n",
       "    <tr>\n",
       "      <th>0</th>\n",
       "      <td>Hack for Men's health</td>\n",
       "      <td>/programs/teasers/FC5PB7qtMpJvLxM3cWrCSDQG</td>\n",
       "    </tr>\n",
       "    <tr>\n",
       "      <th>1</th>\n",
       "      <td>Zilliqa</td>\n",
       "      <td>/zilliqa</td>\n",
       "    </tr>\n",
       "    <tr>\n",
       "      <th>2</th>\n",
       "      <td>Octopus</td>\n",
       "      <td>/octopus-og</td>\n",
       "    </tr>\n",
       "    <tr>\n",
       "      <th>3</th>\n",
       "      <td>Cloudinary</td>\n",
       "      <td>/cloudinary</td>\n",
       "    </tr>\n",
       "    <tr>\n",
       "      <th>4</th>\n",
       "      <td>Accellion Kiteworks Public Program</td>\n",
       "      <td>/accellion-public</td>\n",
       "    </tr>\n",
       "  </tbody>\n",
       "</table>\n",
       "</div>"
      ],
      "text/plain": [
       "                         program_name  \\\n",
       "0               Hack for Men's health   \n",
       "1                             Zilliqa   \n",
       "2                             Octopus   \n",
       "3                          Cloudinary   \n",
       "4  Accellion Kiteworks Public Program   \n",
       "\n",
       "                                  program_url  \n",
       "0  /programs/teasers/FC5PB7qtMpJvLxM3cWrCSDQG  \n",
       "1                                    /zilliqa  \n",
       "2                                 /octopus-og  \n",
       "3                                 /cloudinary  \n",
       "4                           /accellion-public  "
      ]
     },
     "execution_count": 3,
     "metadata": {},
     "output_type": "execute_result"
    }
   ],
   "source": [
    "df_main = main()\n",
    "df_main.head()"
   ]
  },
  {
   "cell_type": "markdown",
   "metadata": {},
   "source": [
    "## Step II + III"
   ]
  },
  {
   "cell_type": "code",
   "execution_count": 7,
   "metadata": {
    "ExecuteTime": {
     "end_time": "2020-10-10T14:14:13.386673Z",
     "start_time": "2020-10-10T14:14:13.373628Z"
    }
   },
   "outputs": [],
   "source": [
    "def extraktion(df, element, className):\n",
    "    #     add new column to save new info\n",
    "    df[\"minBounty\"] = 0\n",
    "    df[\"maxBounty\"] = 0\n",
    "\n",
    "    #     iteration to get full url for request\n",
    "    for index, row in df.iterrows():\n",
    "\n",
    "        full_url = \"https://bugcrowd.com{}\".format(row[\"program_url\"])\n",
    "        response = requestURL(full_url)\n",
    "\n",
    "        # use library beautifulSoup to find the element location\n",
    "        soup = BeautifulSoup(response.text, 'html.parser')\n",
    "        li_item = soup.find(element, attrs={'class': className})\n",
    "        span_range = li_item.find('span', attrs={'class': \"bc-stat__fig\"})\n",
    "        range = get_range(span_range.getText())\n",
    "\n",
    "        # save into dataframe\n",
    "        df[\"minBounty\"][index] = num_only(range[0])\n",
    "        df[\"maxBounty\"][index] = num_only(range[1])\n",
    "\n",
    "    return df\n",
    "\n",
    "\n",
    "#turn html text into array of range\n",
    "def get_range(inputStr):\n",
    "    splitted = inputStr.split(\"–\")\n",
    "\n",
    "    #if the reward are in form of points or charity and so on it will be regarded here as 0 dollar\n",
    "    if (len(splitted) == 1):\n",
    "\n",
    "        return [\"0\", \"0\"]\n",
    "    else:\n",
    "        if (splitted[0].find(\"$\") == -1):\n",
    "            splitted[0] = \"0\"\n",
    "\n",
    "        if (splitted[1].find(\"$\") == -1):\n",
    "            splitted[1] = \"0\"\n",
    "\n",
    "        return splitted\n",
    "\n",
    "\n",
    "#use regular expression to extract numbers\n",
    "def num_only(inputStr):\n",
    "    sub_str = re.sub(u\"([^\\u0030-\\u0039])\", \"\", inputStr)\n",
    "\n",
    "    return sub_str"
   ]
  },
  {
   "cell_type": "code",
   "execution_count": 8,
   "metadata": {
    "ExecuteTime": {
     "end_time": "2020-10-10T14:17:49.113457Z",
     "start_time": "2020-10-10T14:14:13.919761Z"
    }
   },
   "outputs": [
    {
     "name": "stderr",
     "output_type": "stream",
     "text": [
      "C:\\Users\\cathy\\AppData\\Local\\Continuum\\anaconda3\\envs\\py37\\lib\\site-packages\\ipykernel_launcher.py:21: SettingWithCopyWarning: \n",
      "A value is trying to be set on a copy of a slice from a DataFrame\n",
      "\n",
      "See the caveats in the documentation: http://pandas.pydata.org/pandas-docs/stable/user_guide/indexing.html#returning-a-view-versus-a-copy\n",
      "C:\\Users\\cathy\\AppData\\Local\\Continuum\\anaconda3\\envs\\py37\\lib\\site-packages\\ipykernel_launcher.py:22: SettingWithCopyWarning: \n",
      "A value is trying to be set on a copy of a slice from a DataFrame\n",
      "\n",
      "See the caveats in the documentation: http://pandas.pydata.org/pandas-docs/stable/user_guide/indexing.html#returning-a-view-versus-a-copy\n"
     ]
    }
   ],
   "source": [
    "def main_II(path):\n",
    "    df_I = pd.read_csv(path)\n",
    "    df_II = extraktion(df_I, \"li\", \"bc-stat bc-program-card__reward\")\n",
    "    result_csv = df_II.to_csv(r\".\\result_II.csv\")\n",
    "    return df_II\n",
    "\n",
    "\n",
    "df_II = main_II(\"./result_I.csv\")"
   ]
  },
  {
   "cell_type": "code",
   "execution_count": 9,
   "metadata": {
    "ExecuteTime": {
     "end_time": "2020-10-10T14:17:49.125787Z",
     "start_time": "2020-10-10T14:17:49.115445Z"
    }
   },
   "outputs": [
    {
     "data": {
      "text/html": [
       "<div>\n",
       "<style scoped>\n",
       "    .dataframe tbody tr th:only-of-type {\n",
       "        vertical-align: middle;\n",
       "    }\n",
       "\n",
       "    .dataframe tbody tr th {\n",
       "        vertical-align: top;\n",
       "    }\n",
       "\n",
       "    .dataframe thead th {\n",
       "        text-align: right;\n",
       "    }\n",
       "</style>\n",
       "<table border=\"1\" class=\"dataframe\">\n",
       "  <thead>\n",
       "    <tr style=\"text-align: right;\">\n",
       "      <th></th>\n",
       "      <th>Unnamed: 0</th>\n",
       "      <th>program_name</th>\n",
       "      <th>program_url</th>\n",
       "      <th>minBounty</th>\n",
       "      <th>maxBounty</th>\n",
       "    </tr>\n",
       "  </thead>\n",
       "  <tbody>\n",
       "    <tr>\n",
       "      <th>0</th>\n",
       "      <td>0</td>\n",
       "      <td>Hack for Men's health</td>\n",
       "      <td>/programs/teasers/FC5PB7qtMpJvLxM3cWrCSDQG</td>\n",
       "      <td>0</td>\n",
       "      <td>0</td>\n",
       "    </tr>\n",
       "    <tr>\n",
       "      <th>1</th>\n",
       "      <td>1</td>\n",
       "      <td>Zilliqa</td>\n",
       "      <td>/zilliqa</td>\n",
       "      <td>200</td>\n",
       "      <td>6000</td>\n",
       "    </tr>\n",
       "    <tr>\n",
       "      <th>2</th>\n",
       "      <td>2</td>\n",
       "      <td>Octopus</td>\n",
       "      <td>/octopus-og</td>\n",
       "      <td>150</td>\n",
       "      <td>3000</td>\n",
       "    </tr>\n",
       "    <tr>\n",
       "      <th>3</th>\n",
       "      <td>3</td>\n",
       "      <td>Cloudinary</td>\n",
       "      <td>/cloudinary</td>\n",
       "      <td>0</td>\n",
       "      <td>7000</td>\n",
       "    </tr>\n",
       "    <tr>\n",
       "      <th>4</th>\n",
       "      <td>4</td>\n",
       "      <td>Accellion Kiteworks Public Program</td>\n",
       "      <td>/accellion-public</td>\n",
       "      <td>250</td>\n",
       "      <td>10000</td>\n",
       "    </tr>\n",
       "  </tbody>\n",
       "</table>\n",
       "</div>"
      ],
      "text/plain": [
       "   Unnamed: 0                        program_name  \\\n",
       "0           0               Hack for Men's health   \n",
       "1           1                             Zilliqa   \n",
       "2           2                             Octopus   \n",
       "3           3                          Cloudinary   \n",
       "4           4  Accellion Kiteworks Public Program   \n",
       "\n",
       "                                  program_url  minBounty  maxBounty  \n",
       "0  /programs/teasers/FC5PB7qtMpJvLxM3cWrCSDQG          0          0  \n",
       "1                                    /zilliqa        200       6000  \n",
       "2                                 /octopus-og        150       3000  \n",
       "3                                 /cloudinary          0       7000  \n",
       "4                           /accellion-public        250      10000  "
      ]
     },
     "execution_count": 9,
     "metadata": {},
     "output_type": "execute_result"
    }
   ],
   "source": [
    "df_II.head()"
   ]
  },
  {
   "cell_type": "markdown",
   "metadata": {},
   "source": [
    "## Step IV"
   ]
  },
  {
   "cell_type": "code",
   "execution_count": 10,
   "metadata": {
    "ExecuteTime": {
     "end_time": "2020-10-10T14:20:52.849346Z",
     "start_time": "2020-10-10T14:20:52.618362Z"
    }
   },
   "outputs": [],
   "source": [
    "%matplotlib inline\n",
    "def plotUsingBins(binStart, binEnd, binStep, df, columnName):\n",
    "\n",
    "    bins = [i for i in range(binStart, binEnd, binStep)]\n",
    "    #     print(bins)\n",
    "    df[columnName] = df[columnName].astype(int)\n",
    "\n",
    "    df[\"cut\"] = pd.cut(df[columnName], bins)\n",
    "    df[\"cut\"].value_counts().plot(kind='bar')"
   ]
  },
  {
   "cell_type": "code",
   "execution_count": 11,
   "metadata": {
    "ExecuteTime": {
     "end_time": "2020-10-10T14:20:53.808274Z",
     "start_time": "2020-10-10T14:20:53.641057Z"
    }
   },
   "outputs": [
    {
     "data": {
      "image/png": "[encoded data removed]",
      "text/plain": [
       "<Figure size 432x288 with 1 Axes>"
      ]
     },
     "metadata": {
      "needs_background": "light"
     },
     "output_type": "display_data"
    }
   ],
   "source": [
    "df_III = pd.read_csv(\"./result_II.CSV\")\n",
    "plotUsingBins(0, 700, 100, df_III, \"minBounty\")"
   ]
  },
  {
   "cell_type": "code",
   "execution_count": 12,
   "metadata": {
    "ExecuteTime": {
     "end_time": "2020-10-10T14:20:55.201681Z",
     "start_time": "2020-10-10T14:20:54.937835Z"
    },
    "scrolled": true
   },
   "outputs": [
    {
     "data": {
      "image/png": "[encoded data removed]",
      "text/plain": [
       "<Figure size 432x288 with 1 Axes>"
      ]
     },
     "metadata": {
      "needs_background": "light"
     },
     "output_type": "display_data"
    }
   ],
   "source": [
    "plotUsingBins(0, 27000, 1000, df_III, \"maxBounty\")"
   ]
  },
  {
   "cell_type": "markdown",
   "metadata": {},
   "source": [
    "## Step V"
   ]
  },
  {
   "cell_type": "markdown",
   "metadata": {},
   "source": [
    "Für solche Art Anzeigen auf einer Website für tech Menschen, die Nutzung und Emotionale Character von Wörter sollten relative einheitlich sein. Vorschlag wäre, genug Beispiele zu analysieren um Wörterbücher für relevante Topic aufzubauen. Dann Text-mining tech such as clustering zu benutzen um Information zu analysieren und classifizieren. "
   ]
  },
  {
   "cell_type": "code",
   "execution_count": null,
   "metadata": {},
   "outputs": [],
   "source": []
  }
 ],
 "metadata": {
  "kernelspec": {
   "display_name": "Python 3",
   "language": "python",
   "name": "python3"
  },
  "language_info": {
   "codemirror_mode": {
    "name": "ipython",
    "version": 3
   },
   "file_extension": ".py",
   "mimetype": "text/x-python",
   "name": "python",
   "nbconvert_exporter": "python",
   "pygments_lexer": "ipython3",
   "version": "3.7.3"
  }
 },
 "nbformat": 4,
 "nbformat_minor": 2
}
